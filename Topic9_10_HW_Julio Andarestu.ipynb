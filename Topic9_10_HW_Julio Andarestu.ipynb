{
 "cells": [
  {
   "cell_type": "code",
   "execution_count": null,
   "id": "46b8d5e8-677a-409a-b7ed-cbd644444493",
   "metadata": {},
   "outputs": [],
   "source": [
    "# Name : Julio Andarestu\n",
    "# University : Sriwijaya University\n",
    "# Topic : 9 and 10"
   ]
  },
  {
   "cell_type": "code",
   "execution_count": 10,
   "id": "533015a2-6dec-493a-afd9-dc1214b30a6f",
   "metadata": {},
   "outputs": [],
   "source": [
    "import scipy.stats as stats\n",
    "import pandas as pd\n",
    "import numpy as np"
   ]
  },
  {
   "cell_type": "code",
   "execution_count": 11,
   "id": "38780244-bd54-4b37-b645-50485fa147d1",
   "metadata": {},
   "outputs": [
    {
     "data": {
      "text/plain": [
       "(100,\n",
       " 150,\n",
       " 50,\n",
       " 100,\n",
       " 130,\n",
       " 120,\n",
       " 100,\n",
       " 110,\n",
       " 75,\n",
       " 65,\n",
       " 150,\n",
       " 120,\n",
       " 50,\n",
       " 100,\n",
       " 100,\n",
       " 140,\n",
       " 90,\n",
       " 150,\n",
       " 50,\n",
       " 90)"
      ]
     },
     "execution_count": 11,
     "metadata": {},
     "output_type": "execute_result"
    }
   ],
   "source": [
    "transaction = (100,150,50,100,130,120,100,110,75,65,150,120,50,100,100,140,90,150,50,90)\n",
    "transaction"
   ]
  },
  {
   "cell_type": "code",
   "execution_count": null,
   "id": "6927590f-0652-4257-9bf2-e57539c92f5a",
   "metadata": {},
   "outputs": [],
   "source": [
    "#Step 1 : Specify the hypotheses (H0 and H1)\n",
    "# H0 : The Average of transactions' after campaign = $100\n",
    "# H1 : The Average of transactions' after campaign > $100"
   ]
  },
  {
   "cell_type": "code",
   "execution_count": null,
   "id": "2d61efbb-3a0f-423a-b9e5-e8ecf1f20ac9",
   "metadata": {},
   "outputs": [],
   "source": [
    "#Step 2 : Specify the significance level (alpha)\n",
    "# Run a t-test analysis on the transactions’ amount average (with alpha 0.05)"
   ]
  },
  {
   "cell_type": "code",
   "execution_count": 25,
   "id": "7d2fd61a-a226-43fb-9bf1-56281304d0ec",
   "metadata": {},
   "outputs": [
    {
     "data": {
      "text/plain": [
       "Ttest_1sampResult(statistic=0.2731657711666385, pvalue=0.787672894169515)"
      ]
     },
     "execution_count": 25,
     "metadata": {},
     "output_type": "execute_result"
    }
   ],
   "source": [
    "#Step 3 : Calculate T-statistic\n",
    "stats.ttest_1samp(a=transaction, popmean=100)"
   ]
  },
  {
   "cell_type": "code",
   "execution_count": null,
   "id": "a766c5b1-5363-495b-a6c7-13afe03be233",
   "metadata": {},
   "outputs": [],
   "source": [
    "#Step 4 : Find Critical Value (T-Table) and Critical Region\n",
    "# Degree of Freedom = 19\n",
    "# Alpha = 0.05 (One-sided test)\n",
    "# p-value/2 (One-sided test)"
   ]
  },
  {
   "cell_type": "code",
   "execution_count": null,
   "id": "10804703-6dec-4360-aa37-97c88822272f",
   "metadata": {},
   "outputs": [
    {
     "data": {
      "text/plain": [
       "0.3938364470847575"
      ]
     },
     "execution_count": 32,
     "metadata": {},
     "output_type": "execute_result"
    }
   ],
   "source": [
    "0.787672894169515/2 ##p-value"
   ]
  },
  {
   "cell_type": "code",
   "execution_count": null,
   "id": "d5664415-2aca-4e49-8825-7083c31e3fc9",
   "metadata": {},
   "outputs": [],
   "source": [
    "#p-value = 0.39\n",
    "#alpha = 0.05\n",
    "#Then the conclusion is P-Value larger than alpha, meaning fail to reject H0\n",
    "#Conclusion: The mean is equal to 100"
   ]
  },
  {
   "cell_type": "code",
   "execution_count": 24,
   "id": "1e0c5af2-4a61-4b14-a74d-66f21af0a818",
   "metadata": {},
   "outputs": [
    {
     "data": {
      "text/plain": [
       "1.729132811521367"
      ]
     },
     "execution_count": 24,
     "metadata": {},
     "output_type": "execute_result"
    }
   ],
   "source": [
    "#Step 5 : Comparing and Make Conclusion\n",
    "#Using t statistic, we have to find the critical region first\n",
    "\n",
    "# If H1: mean >100 (right side)\n",
    "stats.t.ppf(1-0.05,19)"
   ]
  },
  {
   "cell_type": "code",
   "execution_count": null,
   "id": "31434b3d-d00d-4cd2-8465-5e429b875247",
   "metadata": {},
   "outputs": [],
   "source": [
    "# Critical Value = 1.729132811521367"
   ]
  },
  {
   "cell_type": "code",
   "execution_count": null,
   "id": "ffd76f30-a8c3-417c-bcc0-ef97b30da7c3",
   "metadata": {},
   "outputs": [],
   "source": [
    "# Critical Region = t>1.73\n",
    "# t statistic = 0.2731657711666385\n",
    "\n",
    "# as t statistic is in the critical region, then we fail to reject H0\n",
    "# Conclusion : The mean is = $100 "
   ]
  },
  {
   "cell_type": "code",
   "execution_count": 26,
   "id": "612b4617-82fb-40a1-a992-5dc054fdddff",
   "metadata": {},
   "outputs": [
    {
     "data": {
      "text/plain": [
       "-1.7291328115213678"
      ]
     },
     "execution_count": 26,
     "metadata": {},
     "output_type": "execute_result"
    }
   ],
   "source": [
    "# If H1: mean <100 (left side)\n",
    "stats.t.ppf(0.05,19)"
   ]
  },
  {
   "cell_type": "code",
   "execution_count": null,
   "id": "b253fc42-618c-4839-9ea5-f29d9b8c7a87",
   "metadata": {},
   "outputs": [],
   "source": [
    "# Critical Value = -1.7291328115213678"
   ]
  },
  {
   "cell_type": "code",
   "execution_count": null,
   "id": "bcb94e52-8394-45d9-925d-ae5dcb608202",
   "metadata": {},
   "outputs": [],
   "source": [
    "# Critical Region = t<-1.73\n",
    "# t statistic = 0.2731657711666385\n",
    "\n",
    "# as t statistic is in the critical region, then we fail to reject H0\n",
    "# Conclusion : The mean is = $100 "
   ]
  },
  {
   "cell_type": "code",
   "execution_count": 29,
   "id": "d3df6cf7-d4ac-4dc2-b988-7bbe253e5892",
   "metadata": {},
   "outputs": [
    {
     "data": {
      "text/plain": [
       "<AxesSubplot:ylabel='Density'>"
      ]
     },
     "execution_count": 29,
     "metadata": {},
     "output_type": "execute_result"
    },
    {
     "data": {
      "image/png": "[encoded data removed]",
      "text/plain": [
       "<Figure size 432x288 with 1 Axes>"
      ]
     },
     "metadata": {
      "needs_background": "light"
     },
     "output_type": "display_data"
    }
   ],
   "source": [
    "import seaborn as sns\n",
    "x = stats.t(transaction)\n",
    "sns.kdeplot(transaction)"
   ]
  }
 ],
 "metadata": {
  "kernelspec": {
   "display_name": "Python 3 (ipykernel)",
   "language": "python",
   "name": "python3"
  },
  "language_info": {
   "codemirror_mode": {
    "name": "ipython",
    "version": 3
   },
   "file_extension": ".py",
   "mimetype": "text/x-python",
   "name": "python",
   "nbconvert_exporter": "python",
   "pygments_lexer": "ipython3",
   "version": "3.9.12"
  }
 },
 "nbformat": 4,
 "nbformat_minor": 5
}
